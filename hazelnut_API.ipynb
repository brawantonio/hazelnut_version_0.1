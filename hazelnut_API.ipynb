{
 "cells": [
  {
   "cell_type": "code",
   "execution_count": 1,
   "metadata": {},
   "outputs": [],
   "source": [
    "import tkinter as tk"
   ]
  },
  {
   "cell_type": "code",
   "execution_count": 3,
   "metadata": {},
   "outputs": [],
   "source": [
    "def search():\n",
    "    query = search_entry.get()\n",
    "    # You can implement your search logic here\n",
    "    print(\"Searching for:\", query)\n"
   ]
  },
  {
   "cell_type": "code",
   "execution_count": 4,
   "metadata": {},
   "outputs": [
    {
     "name": "stdout",
     "output_type": "stream",
     "text": [
      "Searching for: egtrghtrge\n",
      "Searching for: egtrghtrge\n",
      "Searching for: egtrghtrge\n",
      "Searching for: egtrghtrge\n",
      "Searching for: egtrghtrge\n",
      "Searching for: egtrghtrge\n"
     ]
    }
   ],
   "source": [
    "# Create the main window\n",
    "root = tk.Tk()\n",
    "root.title(\"Search Box\")\n",
    "root.configure(bg=\"light gray\")\n",
    "\n",
    "# Create a label\n",
    "label = tk.Label(root, text=\"What would you like to know?\", bg=\"light gray\")\n",
    "label.pack(pady=10)\n",
    "\n",
    "# Create a search entry widget\n",
    "search_entry = tk.Entry(root)\n",
    "search_entry.pack(pady=5)\n",
    "\n",
    "# Create a search button\n",
    "search_button = tk.Button(root, text=\"Search\", command=search)\n",
    "search_button.pack(pady=5)\n",
    "\n",
    "# Start the main event loop\n",
    "root.mainloop()"
   ]
  },
  {
   "cell_type": "code",
   "execution_count": null,
   "metadata": {},
   "outputs": [],
   "source": []
  },
  {
   "cell_type": "code",
   "execution_count": null,
   "metadata": {},
   "outputs": [],
   "source": []
  },
  {
   "cell_type": "code",
   "execution_count": null,
   "metadata": {},
   "outputs": [],
   "source": []
  }
 ],
 "metadata": {
  "kernelspec": {
   "display_name": ".venv",
   "language": "python",
   "name": "python3"
  },
  "language_info": {
   "codemirror_mode": {
    "name": "ipython",
    "version": 3
   },
   "file_extension": ".py",
   "mimetype": "text/x-python",
   "name": "python",
   "nbconvert_exporter": "python",
   "pygments_lexer": "ipython3",
   "version": "3.9.7"
  },
  "orig_nbformat": 4
 },
 "nbformat": 4,
 "nbformat_minor": 2
}

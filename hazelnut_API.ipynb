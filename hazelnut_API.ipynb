{
 "cells": [
  {
   "cell_type": "code",
   "execution_count": 22,
   "metadata": {},
   "outputs": [],
   "source": [
    "import tkinter as tk"
   ]
  },
  {
   "cell_type": "code",
   "execution_count": 23,
   "metadata": {},
   "outputs": [],
   "source": [
    "def center_window(window):\n",
    "    # Get the screen width and height\n",
    "    screen_width = window.winfo_screenwidth()\n",
    "    screen_height = window.winfo_screenheight()\n",
    "\n",
    "    # Calculate the x and y coordinates for the centered window\n",
    "    x = (screen_width - window.winfo_reqwidth()) // 2\n",
    "    y = (screen_height - window.winfo_reqheight()) // 2\n",
    "\n",
    "    # Set the window's position\n",
    "    window.geometry(\"+{}+{}\".format(x, y))\n",
    "\n",
    "\n",
    "def search():\n",
    "    query = search_entry.get()\n",
    "    # You can implement your search logic here\n",
    "    print(\"Searching for:\", query)\n",
    "\n",
    "def on_enter(event):\n",
    "    search()\n"
   ]
  },
  {
   "cell_type": "code",
   "execution_count": 24,
   "metadata": {},
   "outputs": [
    {
     "name": "stdout",
     "output_type": "stream",
     "text": [
      "Searching for: kjgigiuhg\n",
      "Searching for: kjgigiuhg\n",
      "Searching for: kjgigiuhg\n"
     ]
    }
   ],
   "source": [
    "#initializing\n",
    "root = tk.Tk()\n",
    "root.geometry(\"500x100+450+100\") \n",
    "root.resizable(False, False)\n",
    "root.title(\"hazelnut;)\")\n",
    "root.configure(bg = '#1E1E1E')\n",
    "root.attributes(\"-alpha\", 0.85)\n",
    "\n",
    "#entry\n",
    "search_entry = tk.Entry(root, bg ='#CCCCCC' ,bd = 0, width = 35, font='Helvetica 20', justify='left',\n",
    "                 textvariable=1)\n",
    "search_entry.place(x=35, y=30, height=45)\n",
    "\n",
    "\n",
    "#image for button\n",
    "photo = tk.PhotoImage(file = r\"./icons/hz copy.png\", master=root) \n",
    "photo = photo.subsample(5,5)\n",
    "search_button = tk.Button(root, text = 'search', image = photo, bd = 0, command = search)\n",
    "search_button.place(x = 400, y = 30, height = 45)\n",
    "\n",
    "# Bind the Enter key to the search function\n",
    "root.bind('<Return>', on_enter)\n",
    "\n",
    "#main loop\n",
    "root.mainloop()"
   ]
  },
  {
   "cell_type": "code",
   "execution_count": null,
   "metadata": {},
   "outputs": [],
   "source": []
  },
  {
   "cell_type": "markdown",
   "metadata": {},
   "source": []
  }
 ],
 "metadata": {
  "kernelspec": {
   "display_name": ".venv",
   "language": "python",
   "name": "python3"
  },
  "language_info": {
   "codemirror_mode": {
    "name": "ipython",
    "version": 3
   },
   "file_extension": ".py",
   "mimetype": "text/x-python",
   "name": "python",
   "nbconvert_exporter": "python",
   "pygments_lexer": "ipython3",
   "version": "3.9.7"
  },
  "orig_nbformat": 4
 },
 "nbformat": 4,
 "nbformat_minor": 2
}
